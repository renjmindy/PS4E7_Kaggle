{
 "cells": [
  {
   "cell_type": "markdown",
   "id": "45afba47",
   "metadata": {
    "papermill": {
     "duration": 0.015563,
     "end_time": "2024-07-24T13:54:05.432634",
     "exception": false,
     "start_time": "2024-07-24T13:54:05.417071",
     "status": "completed"
    },
    "tags": []
   },
   "source": [
    "### Load Python Pakages"
   ]
  },
  {
   "cell_type": "code",
   "execution_count": 1,
   "id": "c13247af",
   "metadata": {
    "_cell_guid": "b1076dfc-b9ad-4769-8c92-a6c4dae69d19",
    "_uuid": "8f2839f25d086af736a60e9eeb907d3b93b6e0e5",
    "execution": {
     "iopub.execute_input": "2024-07-24T13:54:05.464445Z",
     "iopub.status.busy": "2024-07-24T13:54:05.464040Z",
     "iopub.status.idle": "2024-07-24T13:54:06.193867Z",
     "shell.execute_reply": "2024-07-24T13:54:06.192998Z"
    },
    "papermill": {
     "duration": 0.748264,
     "end_time": "2024-07-24T13:54:06.196079",
     "exception": false,
     "start_time": "2024-07-24T13:54:05.447815",
     "status": "completed"
    },
    "tags": []
   },
   "outputs": [
    {
     "name": "stdout",
     "output_type": "stream",
     "text": [
      "/kaggle/input/playground-series-s4e7/sample_submission.csv\n",
      "/kaggle/input/playground-series-s4e7/train.csv\n",
      "/kaggle/input/playground-series-s4e7/test.csv\n"
     ]
    }
   ],
   "source": [
    "# This Python 3 environment comes with many helpful analytics libraries installed\n",
    "# It is defined by the kaggle/python Docker image: https://github.com/kaggle/docker-python\n",
    "# For example, here's several helpful packages to load\n",
    "\n",
    "import numpy as np # linear algebra\n",
    "import pandas as pd # data processing, CSV file I/O (e.g. pd.read_csv)\n",
    "\n",
    "# Input data files are available in the read-only \"../input/\" directory\n",
    "# For example, running this (by clicking run or pressing Shift+Enter) will list all files under the input directory\n",
    "\n",
    "import os\n",
    "for dirname, _, filenames in os.walk('/kaggle/input'):\n",
    "    for filename in filenames:\n",
    "        print(os.path.join(dirname, filename))\n",
    "\n",
    "# You can write up to 20GB to the current directory (/kaggle/working/) that gets preserved as output when you create a version using \"Save & Run All\" \n",
    "# You can also write temporary files to /kaggle/temp/, but they won't be saved outside of the current session"
   ]
  },
  {
   "cell_type": "code",
   "execution_count": 2,
   "id": "b7af836e",
   "metadata": {
    "execution": {
     "iopub.execute_input": "2024-07-24T13:54:06.224062Z",
     "iopub.status.busy": "2024-07-24T13:54:06.223200Z",
     "iopub.status.idle": "2024-07-24T13:54:13.099575Z",
     "shell.execute_reply": "2024-07-24T13:54:13.098809Z"
    },
    "papermill": {
     "duration": 6.892377,
     "end_time": "2024-07-24T13:54:13.101915",
     "exception": false,
     "start_time": "2024-07-24T13:54:06.209538",
     "status": "completed"
    },
    "tags": []
   },
   "outputs": [],
   "source": [
    "#basics\n",
    "import numpy as np\n",
    "import pandas as pd \n",
    "import seaborn as sns\n",
    "import time\n",
    "import matplotlib.pyplot as plt\n",
    "\n",
    "\n",
    "import warnings\n",
    "warnings.filterwarnings(\"ignore\")\n",
    "\n",
    "#preprocessing\n",
    "\n",
    "#feature engineering\n",
    "from sklearn.feature_selection import mutual_info_classif\n",
    "\n",
    "\n",
    "#algorithms\n",
    "from xgboost import XGBClassifier\n",
    "import xgboost as xgb\n",
    "\n",
    "#model evaluation\n",
    "from sklearn.model_selection import train_test_split\n",
    "from sklearn.metrics import roc_auc_score, log_loss\n",
    "from sklearn.metrics import RocCurveDisplay, confusion_matrix\n",
    "from sklearn.metrics import roc_curve, confusion_matrix, ConfusionMatrixDisplay\n",
    "\n",
    "#!pip3 install yellowbrick\n",
    "from yellowbrick.features import FeatureImportances\n",
    "from yellowbrick.classifier import ConfusionMatrix, ClassificationReport, ROCAUC, DiscriminationThreshold\n",
    "\n",
    "#!pip3 install shap\n",
    "import shap\n",
    "\n",
    "from ipywidgets import interact, FloatSlider\n",
    "\n",
    "random_state = 42"
   ]
  },
  {
   "cell_type": "code",
   "execution_count": 3,
   "id": "9084b3a9",
   "metadata": {
    "execution": {
     "iopub.execute_input": "2024-07-24T13:54:13.130780Z",
     "iopub.status.busy": "2024-07-24T13:54:13.129919Z",
     "iopub.status.idle": "2024-07-24T13:54:16.623851Z",
     "shell.execute_reply": "2024-07-24T13:54:16.622904Z"
    },
    "papermill": {
     "duration": 3.510094,
     "end_time": "2024-07-24T13:54:16.626346",
     "exception": false,
     "start_time": "2024-07-24T13:54:13.116252",
     "status": "completed"
    },
    "tags": []
   },
   "outputs": [],
   "source": [
    "#preprocessing\n",
    "from sklearn.preprocessing import StandardScaler, PowerTransformer, MinMaxScaler, LabelEncoder,OneHotEncoder, OrdinalEncoder\n",
    "\n",
    "#feature engineering\n",
    "from sklearn.feature_selection import mutual_info_classif\n",
    "\n",
    "\n",
    "#transformers and pipeline\n",
    "from sklearn.base import BaseEstimator, TransformerMixin\n",
    "from sklearn.base import clone\n",
    "from sklearn.compose import ColumnTransformer\n",
    "from sklearn.pipeline import Pipeline, make_pipeline, FeatureUnion\n",
    "from sklearn import set_config\n",
    "\n",
    "#algorithms\n",
    "from xgboost import XGBClassifier\n",
    "import xgboost as xgb\n",
    "from catboost import CatBoostClassifier\n",
    "from lightgbm import LGBMClassifier\n",
    "from sklearn.base import clone\n",
    "from lightgbm import early_stopping\n",
    "from lightgbm import log_evaluation\n",
    "from sklearn.linear_model import LogisticRegression\n",
    "\n",
    "\n",
    "#model evaluation\n",
    "from sklearn.model_selection import cross_val_score, cross_validate\n",
    "from sklearn.model_selection import StratifiedShuffleSplit, StratifiedKFold\n",
    "from sklearn.model_selection import train_test_split\n",
    "from sklearn.metrics import roc_auc_score, log_loss, auc, accuracy_score, balanced_accuracy_score\n",
    "from sklearn.metrics import make_scorer, RocCurveDisplay, confusion_matrix\n",
    "\n",
    "# Optuna and visualization tools\n",
    "import optuna\n",
    "from optuna.samplers import TPESampler\n",
    "from optuna.visualization import plot_contour\n",
    "from optuna.visualization import plot_edf\n",
    "from optuna.visualization import plot_intermediate_values\n",
    "from optuna.visualization import plot_optimization_history\n",
    "from optuna.visualization import plot_parallel_coordinate\n",
    "from optuna.visualization import plot_param_importances\n",
    "from optuna.visualization import plot_slice"
   ]
  },
  {
   "cell_type": "markdown",
   "id": "99a15cf2",
   "metadata": {
    "papermill": {
     "duration": 0.012501,
     "end_time": "2024-07-24T13:54:16.652258",
     "exception": false,
     "start_time": "2024-07-24T13:54:16.639757",
     "status": "completed"
    },
    "tags": []
   },
   "source": [
    "### Lets look into data"
   ]
  },
  {
   "cell_type": "code",
   "execution_count": 4,
   "id": "2b6c51f2",
   "metadata": {
    "execution": {
     "iopub.execute_input": "2024-07-24T13:54:16.679415Z",
     "iopub.status.busy": "2024-07-24T13:54:16.678790Z",
     "iopub.status.idle": "2024-07-24T13:54:49.302642Z",
     "shell.execute_reply": "2024-07-24T13:54:49.301735Z"
    },
    "papermill": {
     "duration": 32.653593,
     "end_time": "2024-07-24T13:54:49.318507",
     "exception": false,
     "start_time": "2024-07-24T13:54:16.664914",
     "status": "completed"
    },
    "tags": []
   },
   "outputs": [
    {
     "data": {
      "text/html": [
       "<div>\n",
       "<style scoped>\n",
       "    .dataframe tbody tr th:only-of-type {\n",
       "        vertical-align: middle;\n",
       "    }\n",
       "\n",
       "    .dataframe tbody tr th {\n",
       "        vertical-align: top;\n",
       "    }\n",
       "\n",
       "    .dataframe thead th {\n",
       "        text-align: right;\n",
       "    }\n",
       "</style>\n",
       "<table border=\"1\" class=\"dataframe\">\n",
       "  <thead>\n",
       "    <tr style=\"text-align: right;\">\n",
       "      <th></th>\n",
       "      <th>Gender</th>\n",
       "      <th>Age</th>\n",
       "      <th>Driving_License</th>\n",
       "      <th>Region_Code</th>\n",
       "      <th>Previously_Insured</th>\n",
       "      <th>Vehicle_Age</th>\n",
       "      <th>Vehicle_Damage</th>\n",
       "      <th>Annual_Premium</th>\n",
       "      <th>Policy_Sales_Channel</th>\n",
       "      <th>Vintage</th>\n",
       "      <th>Response</th>\n",
       "    </tr>\n",
       "    <tr>\n",
       "      <th>id</th>\n",
       "      <th></th>\n",
       "      <th></th>\n",
       "      <th></th>\n",
       "      <th></th>\n",
       "      <th></th>\n",
       "      <th></th>\n",
       "      <th></th>\n",
       "      <th></th>\n",
       "      <th></th>\n",
       "      <th></th>\n",
       "      <th></th>\n",
       "    </tr>\n",
       "  </thead>\n",
       "  <tbody>\n",
       "    <tr>\n",
       "      <th>0</th>\n",
       "      <td>Male</td>\n",
       "      <td>21</td>\n",
       "      <td>1</td>\n",
       "      <td>35.0</td>\n",
       "      <td>0</td>\n",
       "      <td>1-2 Year</td>\n",
       "      <td>Yes</td>\n",
       "      <td>65101.0</td>\n",
       "      <td>124.0</td>\n",
       "      <td>187</td>\n",
       "      <td>0</td>\n",
       "    </tr>\n",
       "    <tr>\n",
       "      <th>1</th>\n",
       "      <td>Male</td>\n",
       "      <td>43</td>\n",
       "      <td>1</td>\n",
       "      <td>28.0</td>\n",
       "      <td>0</td>\n",
       "      <td>&gt; 2 Years</td>\n",
       "      <td>Yes</td>\n",
       "      <td>58911.0</td>\n",
       "      <td>26.0</td>\n",
       "      <td>288</td>\n",
       "      <td>1</td>\n",
       "    </tr>\n",
       "    <tr>\n",
       "      <th>2</th>\n",
       "      <td>Female</td>\n",
       "      <td>25</td>\n",
       "      <td>1</td>\n",
       "      <td>14.0</td>\n",
       "      <td>1</td>\n",
       "      <td>&lt; 1 Year</td>\n",
       "      <td>No</td>\n",
       "      <td>38043.0</td>\n",
       "      <td>152.0</td>\n",
       "      <td>254</td>\n",
       "      <td>0</td>\n",
       "    </tr>\n",
       "    <tr>\n",
       "      <th>3</th>\n",
       "      <td>Female</td>\n",
       "      <td>35</td>\n",
       "      <td>1</td>\n",
       "      <td>1.0</td>\n",
       "      <td>0</td>\n",
       "      <td>1-2 Year</td>\n",
       "      <td>Yes</td>\n",
       "      <td>2630.0</td>\n",
       "      <td>156.0</td>\n",
       "      <td>76</td>\n",
       "      <td>0</td>\n",
       "    </tr>\n",
       "    <tr>\n",
       "      <th>4</th>\n",
       "      <td>Female</td>\n",
       "      <td>36</td>\n",
       "      <td>1</td>\n",
       "      <td>15.0</td>\n",
       "      <td>1</td>\n",
       "      <td>1-2 Year</td>\n",
       "      <td>No</td>\n",
       "      <td>31951.0</td>\n",
       "      <td>152.0</td>\n",
       "      <td>294</td>\n",
       "      <td>0</td>\n",
       "    </tr>\n",
       "  </tbody>\n",
       "</table>\n",
       "</div>"
      ],
      "text/plain": [
       "    Gender  Age  Driving_License  Region_Code  Previously_Insured Vehicle_Age  \\\n",
       "id                                                                              \n",
       "0     Male   21                1         35.0                   0    1-2 Year   \n",
       "1     Male   43                1         28.0                   0   > 2 Years   \n",
       "2   Female   25                1         14.0                   1    < 1 Year   \n",
       "3   Female   35                1          1.0                   0    1-2 Year   \n",
       "4   Female   36                1         15.0                   1    1-2 Year   \n",
       "\n",
       "   Vehicle_Damage  Annual_Premium  Policy_Sales_Channel  Vintage  Response  \n",
       "id                                                                          \n",
       "0             Yes         65101.0                 124.0      187         0  \n",
       "1             Yes         58911.0                  26.0      288         1  \n",
       "2              No         38043.0                 152.0      254         0  \n",
       "3             Yes          2630.0                 156.0       76         0  \n",
       "4              No         31951.0                 152.0      294         0  "
      ]
     },
     "execution_count": 4,
     "metadata": {},
     "output_type": "execute_result"
    }
   ],
   "source": [
    "# Read the data\n",
    "train_df = pd.read_csv('/kaggle/input/playground-series-s4e7/train.csv', index_col=[0])\n",
    "test_df = pd.read_csv('/kaggle/input/playground-series-s4e7/test.csv', index_col=[0])\n",
    "#original_df = pd.read_csv('/kaggle/input/health-insurance-cross-sell-prediction/train.csv', index_col=[0])\n",
    "\n",
    "train_df.head()"
   ]
  },
  {
   "cell_type": "code",
   "execution_count": 5,
   "id": "4059688e",
   "metadata": {
    "execution": {
     "iopub.execute_input": "2024-07-24T13:54:49.346089Z",
     "iopub.status.busy": "2024-07-24T13:54:49.345757Z",
     "iopub.status.idle": "2024-07-24T13:54:49.350372Z",
     "shell.execute_reply": "2024-07-24T13:54:49.349557Z"
    },
    "papermill": {
     "duration": 0.020717,
     "end_time": "2024-07-24T13:54:49.352420",
     "exception": false,
     "start_time": "2024-07-24T13:54:49.331703",
     "status": "completed"
    },
    "tags": []
   },
   "outputs": [
    {
     "name": "stdout",
     "output_type": "stream",
     "text": [
      "(11504798, 11)\n",
      "(7669866, 10)\n"
     ]
    }
   ],
   "source": [
    "print(train_df.shape)\n",
    "print(test_df.shape)"
   ]
  },
  {
   "cell_type": "code",
   "execution_count": 6,
   "id": "4ccb10e4",
   "metadata": {
    "execution": {
     "iopub.execute_input": "2024-07-24T13:54:49.379660Z",
     "iopub.status.busy": "2024-07-24T13:54:49.379404Z",
     "iopub.status.idle": "2024-07-24T13:54:49.387739Z",
     "shell.execute_reply": "2024-07-24T13:54:49.387034Z"
    },
    "papermill": {
     "duration": 0.024288,
     "end_time": "2024-07-24T13:54:49.389764",
     "exception": false,
     "start_time": "2024-07-24T13:54:49.365476",
     "status": "completed"
    },
    "tags": []
   },
   "outputs": [],
   "source": [
    "#This function reduces memory usage. Reference: https://www.kaggle.com/code/jmascacibar/optimizing-memory-usage-with-insurance-cross-sell/notebook\n",
    "def shrink_and_dummify(df):\n",
    "    df[\"Vehicle_Age\"] = df[\"Vehicle_Age\"].apply(lambda x: 0 if x == '< 1 Year' else (1 if x == '1-2 Year' else 2)).astype('int8')\n",
    "    df['Gender'] = df['Gender'].apply(lambda x: 0 if x == 'Female' else 1).astype('int8')\n",
    "    df['Vehicle_Damage'] = df['Vehicle_Damage'].apply(lambda x: 0 if x == 'No' else 1).astype('int8')\n",
    "    df['Age'] = df['Age'].astype('int8')\n",
    "    df['Driving_License'] = df['Driving_License'].astype('int8')\n",
    "    df['Region_Code'] = df['Region_Code'].astype('int8')\n",
    "    df['Previously_Insured'] = df['Previously_Insured'].astype('int8')\n",
    "    df['Annual_Premium'] = df['Annual_Premium'].astype('int32')\n",
    "    df['Policy_Sales_Channel'] = df['Policy_Sales_Channel'].astype('int16')\n",
    "    df['Vintage'] = df['Vintage'].astype('int16')\n",
    "    \n",
    "    if 'Response' in df.columns:\n",
    "        df['Response'] = df['Response'].astype('int8')\n",
    "    \n",
    "    return df"
   ]
  },
  {
   "cell_type": "code",
   "execution_count": 7,
   "id": "85b75b97",
   "metadata": {
    "execution": {
     "iopub.execute_input": "2024-07-24T13:54:49.417222Z",
     "iopub.status.busy": "2024-07-24T13:54:49.416934Z",
     "iopub.status.idle": "2024-07-24T13:55:28.013410Z",
     "shell.execute_reply": "2024-07-24T13:55:28.012412Z"
    },
    "papermill": {
     "duration": 38.612889,
     "end_time": "2024-07-24T13:55:28.015804",
     "exception": false,
     "start_time": "2024-07-24T13:54:49.402915",
     "status": "completed"
    },
    "tags": []
   },
   "outputs": [],
   "source": [
    "train_df = shrink_and_dummify(train_df)\n",
    "test_df = shrink_and_dummify(test_df)"
   ]
  },
  {
   "cell_type": "markdown",
   "id": "1e90003e",
   "metadata": {
    "papermill": {
     "duration": 0.013077,
     "end_time": "2024-07-24T13:55:28.042458",
     "exception": false,
     "start_time": "2024-07-24T13:55:28.029381",
     "status": "completed"
    },
    "tags": []
   },
   "source": [
    "### Descpriptive statistics"
   ]
  },
  {
   "cell_type": "code",
   "execution_count": 8,
   "id": "a2fc6ffd",
   "metadata": {
    "execution": {
     "iopub.execute_input": "2024-07-24T13:55:28.070000Z",
     "iopub.status.busy": "2024-07-24T13:55:28.069634Z",
     "iopub.status.idle": "2024-07-24T13:55:30.942028Z",
     "shell.execute_reply": "2024-07-24T13:55:30.941128Z"
    },
    "papermill": {
     "duration": 2.888461,
     "end_time": "2024-07-24T13:55:30.944002",
     "exception": false,
     "start_time": "2024-07-24T13:55:28.055541",
     "status": "completed"
    },
    "tags": []
   },
   "outputs": [
    {
     "data": {
      "text/html": [
       "<div>\n",
       "<style scoped>\n",
       "    .dataframe tbody tr th:only-of-type {\n",
       "        vertical-align: middle;\n",
       "    }\n",
       "\n",
       "    .dataframe tbody tr th {\n",
       "        vertical-align: top;\n",
       "    }\n",
       "\n",
       "    .dataframe thead th {\n",
       "        text-align: right;\n",
       "    }\n",
       "</style>\n",
       "<table border=\"1\" class=\"dataframe\">\n",
       "  <thead>\n",
       "    <tr style=\"text-align: right;\">\n",
       "      <th></th>\n",
       "      <th>count</th>\n",
       "      <th>mean</th>\n",
       "      <th>std</th>\n",
       "      <th>min</th>\n",
       "      <th>25%</th>\n",
       "      <th>50%</th>\n",
       "      <th>75%</th>\n",
       "      <th>max</th>\n",
       "    </tr>\n",
       "  </thead>\n",
       "  <tbody>\n",
       "    <tr>\n",
       "      <th>Gender</th>\n",
       "      <td>11504798.0</td>\n",
       "      <td>0.541351</td>\n",
       "      <td>0.498287</td>\n",
       "      <td>0.0</td>\n",
       "      <td>0.0</td>\n",
       "      <td>1.0</td>\n",
       "      <td>1.0</td>\n",
       "      <td>1.0</td>\n",
       "    </tr>\n",
       "    <tr>\n",
       "      <th>Age</th>\n",
       "      <td>11504798.0</td>\n",
       "      <td>38.383563</td>\n",
       "      <td>14.993459</td>\n",
       "      <td>20.0</td>\n",
       "      <td>24.0</td>\n",
       "      <td>36.0</td>\n",
       "      <td>49.0</td>\n",
       "      <td>85.0</td>\n",
       "    </tr>\n",
       "    <tr>\n",
       "      <th>Driving_License</th>\n",
       "      <td>11504798.0</td>\n",
       "      <td>0.998022</td>\n",
       "      <td>0.044431</td>\n",
       "      <td>0.0</td>\n",
       "      <td>1.0</td>\n",
       "      <td>1.0</td>\n",
       "      <td>1.0</td>\n",
       "      <td>1.0</td>\n",
       "    </tr>\n",
       "    <tr>\n",
       "      <th>Region_Code</th>\n",
       "      <td>11504798.0</td>\n",
       "      <td>26.418690</td>\n",
       "      <td>12.991590</td>\n",
       "      <td>0.0</td>\n",
       "      <td>15.0</td>\n",
       "      <td>28.0</td>\n",
       "      <td>35.0</td>\n",
       "      <td>52.0</td>\n",
       "    </tr>\n",
       "    <tr>\n",
       "      <th>Previously_Insured</th>\n",
       "      <td>11504798.0</td>\n",
       "      <td>0.462997</td>\n",
       "      <td>0.498629</td>\n",
       "      <td>0.0</td>\n",
       "      <td>0.0</td>\n",
       "      <td>0.0</td>\n",
       "      <td>1.0</td>\n",
       "      <td>1.0</td>\n",
       "    </tr>\n",
       "    <tr>\n",
       "      <th>Vehicle_Age</th>\n",
       "      <td>11504798.0</td>\n",
       "      <td>0.603107</td>\n",
       "      <td>0.567856</td>\n",
       "      <td>0.0</td>\n",
       "      <td>0.0</td>\n",
       "      <td>1.0</td>\n",
       "      <td>1.0</td>\n",
       "      <td>2.0</td>\n",
       "    </tr>\n",
       "    <tr>\n",
       "      <th>Vehicle_Damage</th>\n",
       "      <td>11504798.0</td>\n",
       "      <td>0.502680</td>\n",
       "      <td>0.499993</td>\n",
       "      <td>0.0</td>\n",
       "      <td>0.0</td>\n",
       "      <td>1.0</td>\n",
       "      <td>1.0</td>\n",
       "      <td>1.0</td>\n",
       "    </tr>\n",
       "    <tr>\n",
       "      <th>Annual_Premium</th>\n",
       "      <td>11504798.0</td>\n",
       "      <td>30461.370411</td>\n",
       "      <td>16454.745205</td>\n",
       "      <td>2630.0</td>\n",
       "      <td>25277.0</td>\n",
       "      <td>31824.0</td>\n",
       "      <td>39451.0</td>\n",
       "      <td>540165.0</td>\n",
       "    </tr>\n",
       "    <tr>\n",
       "      <th>Policy_Sales_Channel</th>\n",
       "      <td>11504798.0</td>\n",
       "      <td>112.425442</td>\n",
       "      <td>54.035708</td>\n",
       "      <td>1.0</td>\n",
       "      <td>29.0</td>\n",
       "      <td>151.0</td>\n",
       "      <td>152.0</td>\n",
       "      <td>163.0</td>\n",
       "    </tr>\n",
       "    <tr>\n",
       "      <th>Vintage</th>\n",
       "      <td>11504798.0</td>\n",
       "      <td>163.897744</td>\n",
       "      <td>79.979531</td>\n",
       "      <td>10.0</td>\n",
       "      <td>99.0</td>\n",
       "      <td>166.0</td>\n",
       "      <td>232.0</td>\n",
       "      <td>299.0</td>\n",
       "    </tr>\n",
       "    <tr>\n",
       "      <th>Response</th>\n",
       "      <td>11504798.0</td>\n",
       "      <td>0.122997</td>\n",
       "      <td>0.328434</td>\n",
       "      <td>0.0</td>\n",
       "      <td>0.0</td>\n",
       "      <td>0.0</td>\n",
       "      <td>0.0</td>\n",
       "      <td>1.0</td>\n",
       "    </tr>\n",
       "  </tbody>\n",
       "</table>\n",
       "</div>"
      ],
      "text/plain": [
       "                           count          mean           std     min      25%  \\\n",
       "Gender                11504798.0      0.541351      0.498287     0.0      0.0   \n",
       "Age                   11504798.0     38.383563     14.993459    20.0     24.0   \n",
       "Driving_License       11504798.0      0.998022      0.044431     0.0      1.0   \n",
       "Region_Code           11504798.0     26.418690     12.991590     0.0     15.0   \n",
       "Previously_Insured    11504798.0      0.462997      0.498629     0.0      0.0   \n",
       "Vehicle_Age           11504798.0      0.603107      0.567856     0.0      0.0   \n",
       "Vehicle_Damage        11504798.0      0.502680      0.499993     0.0      0.0   \n",
       "Annual_Premium        11504798.0  30461.370411  16454.745205  2630.0  25277.0   \n",
       "Policy_Sales_Channel  11504798.0    112.425442     54.035708     1.0     29.0   \n",
       "Vintage               11504798.0    163.897744     79.979531    10.0     99.0   \n",
       "Response              11504798.0      0.122997      0.328434     0.0      0.0   \n",
       "\n",
       "                          50%      75%       max  \n",
       "Gender                    1.0      1.0       1.0  \n",
       "Age                      36.0     49.0      85.0  \n",
       "Driving_License           1.0      1.0       1.0  \n",
       "Region_Code              28.0     35.0      52.0  \n",
       "Previously_Insured        0.0      1.0       1.0  \n",
       "Vehicle_Age               1.0      1.0       2.0  \n",
       "Vehicle_Damage            1.0      1.0       1.0  \n",
       "Annual_Premium        31824.0  39451.0  540165.0  \n",
       "Policy_Sales_Channel    151.0    152.0     163.0  \n",
       "Vintage                 166.0    232.0     299.0  \n",
       "Response                  0.0      0.0       1.0  "
      ]
     },
     "execution_count": 8,
     "metadata": {},
     "output_type": "execute_result"
    }
   ],
   "source": [
    "train_df.describe().T"
   ]
  },
  {
   "cell_type": "code",
   "execution_count": 9,
   "id": "a763e410",
   "metadata": {
    "execution": {
     "iopub.execute_input": "2024-07-24T13:55:30.972434Z",
     "iopub.status.busy": "2024-07-24T13:55:30.971873Z",
     "iopub.status.idle": "2024-07-24T13:55:31.669013Z",
     "shell.execute_reply": "2024-07-24T13:55:31.668128Z"
    },
    "papermill": {
     "duration": 0.713702,
     "end_time": "2024-07-24T13:55:31.671261",
     "exception": false,
     "start_time": "2024-07-24T13:55:30.957559",
     "status": "completed"
    },
    "tags": []
   },
   "outputs": [
    {
     "data": {
      "image/png": "[encoded data removed]",
      "text/plain": [
       "<Figure size 1000x1000 with 1 Axes>"
      ]
     },
     "metadata": {},
     "output_type": "display_data"
    }
   ],
   "source": [
    "plt.figure(figsize=(10, 10))\n",
    "palette_color = sns.color_palette('pastel')\n",
    "explode = [0.05 for _ in range(train_df['Response'].nunique())]\n",
    "\n",
    "# Plotting\n",
    "train_df.groupby('Response')['Response'].count().plot.pie(\n",
    "    colors=palette_color,\n",
    "    explode=explode,\n",
    "    autopct=\"%1.1f%%\",\n",
    "    shadow=True,  # Adding shadow for better visibility\n",
    "    startangle=140,  # Start angle for better alignment\n",
    "    textprops={'fontsize': 14},  # Adjust text size\n",
    "    wedgeprops={'edgecolor': 'black', 'linewidth': 1.5}  # Adding edge color and width\n",
    ")\n",
    "\n",
    "# Adding a title\n",
    "plt.title('Target Distribution', fontsize=18, weight='bold')\n",
    "\n",
    "# Equal aspect ratio ensures that pie is drawn as a circle.\n",
    "plt.axis('equal')\n",
    "\n",
    "# Displaying the plot\n",
    "plt.show()"
   ]
  },
  {
   "cell_type": "markdown",
   "id": "9c5d9e46",
   "metadata": {
    "papermill": {
     "duration": 0.014284,
     "end_time": "2024-07-24T13:55:31.700526",
     "exception": false,
     "start_time": "2024-07-24T13:55:31.686242",
     "status": "completed"
    },
    "tags": []
   },
   "source": [
    "### Grouping features for preprocessing purposes"
   ]
  },
  {
   "cell_type": "code",
   "execution_count": 10,
   "id": "452f7406",
   "metadata": {
    "execution": {
     "iopub.execute_input": "2024-07-24T13:55:31.730897Z",
     "iopub.status.busy": "2024-07-24T13:55:31.730366Z",
     "iopub.status.idle": "2024-07-24T13:55:32.271761Z",
     "shell.execute_reply": "2024-07-24T13:55:32.270813Z"
    },
    "papermill": {
     "duration": 0.558895,
     "end_time": "2024-07-24T13:55:32.273815",
     "exception": false,
     "start_time": "2024-07-24T13:55:31.714920",
     "status": "completed"
    },
    "tags": []
   },
   "outputs": [
    {
     "data": {
      "text/plain": [
       "Gender                      2\n",
       "Driving_License             2\n",
       "Vehicle_Damage              2\n",
       "Previously_Insured          2\n",
       "Response                    2\n",
       "Vehicle_Age                 3\n",
       "Region_Code                53\n",
       "Age                        66\n",
       "Policy_Sales_Channel      152\n",
       "Vintage                   290\n",
       "Annual_Premium          51728\n",
       "dtype: int64"
      ]
     },
     "execution_count": 10,
     "metadata": {},
     "output_type": "execute_result"
    }
   ],
   "source": [
    "train_df.nunique().sort_values()"
   ]
  },
  {
   "cell_type": "code",
   "execution_count": 11,
   "id": "73eac6fa",
   "metadata": {
    "execution": {
     "iopub.execute_input": "2024-07-24T13:55:32.304829Z",
     "iopub.status.busy": "2024-07-24T13:55:32.304504Z",
     "iopub.status.idle": "2024-07-24T13:55:32.316777Z",
     "shell.execute_reply": "2024-07-24T13:55:32.315903Z"
    },
    "papermill": {
     "duration": 0.030832,
     "end_time": "2024-07-24T13:55:32.319667",
     "exception": false,
     "start_time": "2024-07-24T13:55:32.288835",
     "status": "completed"
    },
    "tags": []
   },
   "outputs": [
    {
     "name": "stdout",
     "output_type": "stream",
     "text": [
      "<class 'pandas.core.frame.DataFrame'>\n",
      "Index: 11504798 entries, 0 to 11504797\n",
      "Data columns (total 11 columns):\n",
      " #   Column                Dtype\n",
      "---  ------                -----\n",
      " 0   Gender                int8 \n",
      " 1   Age                   int8 \n",
      " 2   Driving_License       int8 \n",
      " 3   Region_Code           int8 \n",
      " 4   Previously_Insured    int8 \n",
      " 5   Vehicle_Age           int8 \n",
      " 6   Vehicle_Damage        int8 \n",
      " 7   Annual_Premium        int32\n",
      " 8   Policy_Sales_Channel  int16\n",
      " 9   Vintage               int16\n",
      " 10  Response              int8 \n",
      "dtypes: int16(2), int32(1), int8(8)\n",
      "memory usage: 263.3 MB\n"
     ]
    }
   ],
   "source": [
    "train_df.info()"
   ]
  },
  {
   "cell_type": "code",
   "execution_count": 12,
   "id": "a538bce0",
   "metadata": {
    "execution": {
     "iopub.execute_input": "2024-07-24T13:55:32.351640Z",
     "iopub.status.busy": "2024-07-24T13:55:32.351113Z",
     "iopub.status.idle": "2024-07-24T13:55:32.356607Z",
     "shell.execute_reply": "2024-07-24T13:55:32.355777Z"
    },
    "papermill": {
     "duration": 0.023167,
     "end_time": "2024-07-24T13:55:32.358447",
     "exception": false,
     "start_time": "2024-07-24T13:55:32.335280",
     "status": "completed"
    },
    "tags": []
   },
   "outputs": [],
   "source": [
    "# Store numerical and categorical features to different lists for visualization purposes\n",
    "feature_list = [feature for feature in train_df.columns if not feature  == \"Response\"]\n",
    "\n",
    "target = \"Response\"\n",
    "\n",
    "binary_features = ['Previously_Insured','Driving_License', 'Gender', 'Vehicle_Damage', 'Vehicle_Age']\n",
    "\n",
    "continuous_features = list(set(feature_list) - set(binary_features))\n",
    "\n",
    "assert feature_list.sort() == (continuous_features + binary_features).sort()"
   ]
  },
  {
   "cell_type": "markdown",
   "id": "3384acf9",
   "metadata": {
    "papermill": {
     "duration": 0.014636,
     "end_time": "2024-07-24T13:55:32.387937",
     "exception": false,
     "start_time": "2024-07-24T13:55:32.373301",
     "status": "completed"
    },
    "tags": []
   },
   "source": [
    "### Exploratory Data Analysis"
   ]
  },
  {
   "cell_type": "code",
   "execution_count": 13,
   "id": "011668b8",
   "metadata": {
    "execution": {
     "iopub.execute_input": "2024-07-24T13:55:32.419506Z",
     "iopub.status.busy": "2024-07-24T13:55:32.419185Z",
     "iopub.status.idle": "2024-07-24T13:55:32.899806Z",
     "shell.execute_reply": "2024-07-24T13:55:32.898760Z"
    },
    "papermill": {
     "duration": 0.498937,
     "end_time": "2024-07-24T13:55:32.902119",
     "exception": false,
     "start_time": "2024-07-24T13:55:32.403182",
     "status": "completed"
    },
    "tags": []
   },
   "outputs": [],
   "source": [
    "#Data is huge just take some sample for eda\n",
    "eda_df = train_df.sample(frac=0.01)"
   ]
  },
  {
   "cell_type": "code",
   "execution_count": 14,
   "id": "5fd7575b",
   "metadata": {
    "execution": {
     "iopub.execute_input": "2024-07-24T13:55:32.935838Z",
     "iopub.status.busy": "2024-07-24T13:55:32.935136Z",
     "iopub.status.idle": "2024-07-24T13:55:34.269195Z",
     "shell.execute_reply": "2024-07-24T13:55:34.268241Z"
    },
    "papermill": {
     "duration": 1.353538,
     "end_time": "2024-07-24T13:55:34.271449",
     "exception": false,
     "start_time": "2024-07-24T13:55:32.917911",
     "status": "completed"
    },
    "tags": []
   },
   "outputs": [
    {
     "data": {
      "image/png": "[encoded data removed]",
      "text/plain": [
       "<Figure size 3000x2000 with 6 Axes>"
      ]
     },
     "metadata": {},
     "output_type": "display_data"
    }
   ],
   "source": [
    "fig, ax = plt.subplots(2, 3, figsize=(30, 20))\n",
    "for var, subplot in zip(continuous_features, ax.flatten()):\n",
    "    sns.boxplot(x='Response', y=var, data=eda_df, ax=subplot, palette='Set3')"
   ]
  },
  {
   "cell_type": "code",
   "execution_count": 15,
   "id": "12a59339",
   "metadata": {
    "execution": {
     "iopub.execute_input": "2024-07-24T13:55:34.305357Z",
     "iopub.status.busy": "2024-07-24T13:55:34.304526Z",
     "iopub.status.idle": "2024-07-24T13:55:39.041578Z",
     "shell.execute_reply": "2024-07-24T13:55:39.040634Z"
    },
    "papermill": {
     "duration": 4.755944,
     "end_time": "2024-07-24T13:55:39.043535",
     "exception": false,
     "start_time": "2024-07-24T13:55:34.287591",
     "status": "completed"
    },
    "tags": []
   },
   "outputs": [
    {
     "data": {
      "image/png": "[encoded data removed]",
      "text/plain": [
       "<Figure size 3000x2000 with 6 Axes>"
      ]
     },
     "metadata": {},
     "output_type": "display_data"
    }
   ],
   "source": [
    "fig, ax = plt.subplots(2, 3, figsize=(30, 20))\n",
    "for var, subplot in zip(binary_features, ax.flatten()):\n",
    "    sns.barplot(x= var, y= 'Response', data=eda_df, ax=subplot, palette='Set3')"
   ]
  },
  {
   "cell_type": "markdown",
   "id": "d23d3561",
   "metadata": {
    "papermill": {
     "duration": 0.016758,
     "end_time": "2024-07-24T13:55:39.077502",
     "exception": false,
     "start_time": "2024-07-24T13:55:39.060744",
     "status": "completed"
    },
    "tags": []
   },
   "source": [
    "### Feature Engineering"
   ]
  },
  {
   "cell_type": "code",
   "execution_count": 16,
   "id": "bab0c3ab",
   "metadata": {
    "execution": {
     "iopub.execute_input": "2024-07-24T13:55:39.156244Z",
     "iopub.status.busy": "2024-07-24T13:55:39.155827Z",
     "iopub.status.idle": "2024-07-24T13:55:44.687118Z",
     "shell.execute_reply": "2024-07-24T13:55:44.686144Z"
    },
    "papermill": {
     "duration": 5.551749,
     "end_time": "2024-07-24T13:55:44.689169",
     "exception": false,
     "start_time": "2024-07-24T13:55:39.137420",
     "status": "completed"
    },
    "tags": []
   },
   "outputs": [
    {
     "data": {
      "text/html": [
       "<style type=\"text/css\">\n",
       "#T_6167d_row0_col0 {\n",
       "  background-color: #ff00ff;\n",
       "  color: #f1f1f1;\n",
       "}\n",
       "#T_6167d_row1_col0 {\n",
       "  background-color: #f708ff;\n",
       "  color: #f1f1f1;\n",
       "}\n",
       "#T_6167d_row2_col0 {\n",
       "  background-color: #5ba4ff;\n",
       "  color: #f1f1f1;\n",
       "}\n",
       "#T_6167d_row3_col0 {\n",
       "  background-color: #4fb0ff;\n",
       "  color: #f1f1f1;\n",
       "}\n",
       "#T_6167d_row4_col0 {\n",
       "  background-color: #37c8ff;\n",
       "  color: #000000;\n",
       "}\n",
       "#T_6167d_row5_col0 {\n",
       "  background-color: #29d6ff;\n",
       "  color: #000000;\n",
       "}\n",
       "#T_6167d_row6_col0 {\n",
       "  background-color: #10efff;\n",
       "  color: #000000;\n",
       "}\n",
       "#T_6167d_row7_col0 {\n",
       "  background-color: #0ff0ff;\n",
       "  color: #000000;\n",
       "}\n",
       "#T_6167d_row8_col0 {\n",
       "  background-color: #06f9ff;\n",
       "  color: #000000;\n",
       "}\n",
       "#T_6167d_row9_col0 {\n",
       "  background-color: #00ffff;\n",
       "  color: #000000;\n",
       "}\n",
       "</style>\n",
       "<table id=\"T_6167d\">\n",
       "  <thead>\n",
       "    <tr>\n",
       "      <th class=\"blank level0\" >&nbsp;</th>\n",
       "      <th id=\"T_6167d_level0_col0\" class=\"col_heading level0 col0\" >Numerical_Feature_MI</th>\n",
       "    </tr>\n",
       "  </thead>\n",
       "  <tbody>\n",
       "    <tr>\n",
       "      <th id=\"T_6167d_level0_row0\" class=\"row_heading level0 row0\" >Previously_Insured</th>\n",
       "      <td id=\"T_6167d_row0_col0\" class=\"data row0 col0\" >0.093797</td>\n",
       "    </tr>\n",
       "    <tr>\n",
       "      <th id=\"T_6167d_level0_row1\" class=\"row_heading level0 row1\" >Vehicle_Damage</th>\n",
       "      <td id=\"T_6167d_row1_col0\" class=\"data row1 col0\" >0.090895</td>\n",
       "    </tr>\n",
       "    <tr>\n",
       "      <th id=\"T_6167d_level0_row2\" class=\"row_heading level0 row2\" >Age</th>\n",
       "      <td id=\"T_6167d_row2_col0\" class=\"data row2 col0\" >0.037548</td>\n",
       "    </tr>\n",
       "    <tr>\n",
       "      <th id=\"T_6167d_level0_row3\" class=\"row_heading level0 row3\" >Vehicle_Age</th>\n",
       "      <td id=\"T_6167d_row3_col0\" class=\"data row3 col0\" >0.033476</td>\n",
       "    </tr>\n",
       "    <tr>\n",
       "      <th id=\"T_6167d_level0_row4\" class=\"row_heading level0 row4\" >Policy_Sales_Channel</th>\n",
       "      <td id=\"T_6167d_row4_col0\" class=\"data row4 col0\" >0.025490</td>\n",
       "    </tr>\n",
       "    <tr>\n",
       "      <th id=\"T_6167d_level0_row5\" class=\"row_heading level0 row5\" >Driving_License</th>\n",
       "      <td id=\"T_6167d_row5_col0\" class=\"data row5 col0\" >0.020431</td>\n",
       "    </tr>\n",
       "    <tr>\n",
       "      <th id=\"T_6167d_level0_row6\" class=\"row_heading level0 row6\" >Gender</th>\n",
       "      <td id=\"T_6167d_row6_col0\" class=\"data row6 col0\" >0.012082</td>\n",
       "    </tr>\n",
       "    <tr>\n",
       "      <th id=\"T_6167d_level0_row7\" class=\"row_heading level0 row7\" >Region_Code</th>\n",
       "      <td id=\"T_6167d_row7_col0\" class=\"data row7 col0\" >0.011557</td>\n",
       "    </tr>\n",
       "    <tr>\n",
       "      <th id=\"T_6167d_level0_row8\" class=\"row_heading level0 row8\" >Annual_Premium</th>\n",
       "      <td id=\"T_6167d_row8_col0\" class=\"data row8 col0\" >0.008493</td>\n",
       "    </tr>\n",
       "    <tr>\n",
       "      <th id=\"T_6167d_level0_row9\" class=\"row_heading level0 row9\" >Vintage</th>\n",
       "      <td id=\"T_6167d_row9_col0\" class=\"data row9 col0\" >0.006412</td>\n",
       "    </tr>\n",
       "  </tbody>\n",
       "</table>\n"
      ],
      "text/plain": [
       "<pandas.io.formats.style.Styler at 0x7ac460cc11e0>"
      ]
     },
     "execution_count": 16,
     "metadata": {},
     "output_type": "execute_result"
    }
   ],
   "source": [
    "# determine the mutual information for features\n",
    "\n",
    "mutual_df = eda_df[feature_list]\n",
    "y_sampled = eda_df.Response\n",
    "mutual_info = mutual_info_classif(mutual_df, y_sampled, random_state=random_state)\n",
    "\n",
    "mutual_info = pd.Series(mutual_info)\n",
    "mutual_info.index = mutual_df.columns\n",
    "mutual_info = pd.DataFrame(mutual_info.sort_values(ascending=False), columns = [\"Numerical_Feature_MI\"] )\n",
    "mutual_info.style.background_gradient(\"cool\")"
   ]
  },
  {
   "cell_type": "code",
   "execution_count": 17,
   "id": "40e45d67",
   "metadata": {
    "execution": {
     "iopub.execute_input": "2024-07-24T13:55:44.725782Z",
     "iopub.status.busy": "2024-07-24T13:55:44.724981Z",
     "iopub.status.idle": "2024-07-24T13:55:44.729068Z",
     "shell.execute_reply": "2024-07-24T13:55:44.728210Z"
    },
    "papermill": {
     "duration": 0.024435,
     "end_time": "2024-07-24T13:55:44.731058",
     "exception": false,
     "start_time": "2024-07-24T13:55:44.706623",
     "status": "completed"
    },
    "tags": []
   },
   "outputs": [],
   "source": [
    "#eda_df = pd.get_dummies(eda_df, columns=['Previously_Insured'])\n",
    "#eda_df['Previously_Insured_Yes'] = eda_df['Previously_Insured_Yes'].astype('int')\n",
    "#eda_df['Previously_Insured_No'] = eda_df['Previously_Insured_No'].astype('int')\n",
    "#eda_df.head().T"
   ]
  },
  {
   "cell_type": "code",
   "execution_count": 18,
   "id": "6cb7ad0e",
   "metadata": {
    "execution": {
     "iopub.execute_input": "2024-07-24T13:55:44.766219Z",
     "iopub.status.busy": "2024-07-24T13:55:44.765910Z",
     "iopub.status.idle": "2024-07-24T13:55:44.769631Z",
     "shell.execute_reply": "2024-07-24T13:55:44.768757Z"
    },
    "papermill": {
     "duration": 0.02349,
     "end_time": "2024-07-24T13:55:44.771499",
     "exception": false,
     "start_time": "2024-07-24T13:55:44.748009",
     "status": "completed"
    },
    "tags": []
   },
   "outputs": [],
   "source": [
    "#eda_df = eda_df.rename(columns={'Vehicle_Age_1-2 Year': 'Vehicle_Age_1-2_Year', 'Vehicle_Age_< 1 Year': 'Vehicle_Age_less_than_1_Year',\n",
    "#                                'Vehicle_Age_> 2 Years': 'Vehicle_Age_greater_than_2_Years'})\n",
    "#eda_df.head().T"
   ]
  },
  {
   "cell_type": "code",
   "execution_count": 19,
   "id": "bf4bf52b",
   "metadata": {
    "execution": {
     "iopub.execute_input": "2024-07-24T13:55:44.806684Z",
     "iopub.status.busy": "2024-07-24T13:55:44.806419Z",
     "iopub.status.idle": "2024-07-24T13:55:44.810146Z",
     "shell.execute_reply": "2024-07-24T13:55:44.809305Z"
    },
    "papermill": {
     "duration": 0.023605,
     "end_time": "2024-07-24T13:55:44.812044",
     "exception": false,
     "start_time": "2024-07-24T13:55:44.788439",
     "status": "completed"
    },
    "tags": []
   },
   "outputs": [],
   "source": [
    "#eda_df['Vehicle_Age'] = eda_df['Vehicle_Age'].apply(lambda x: '1-2_Year' if x == '1-2 Year' else ('less_than_1_Year' \n",
    "#                                                                  if x == '< 1 Year' else ('greater_than_2_Years')))\n",
    "#eda_df.head().T"
   ]
  },
  {
   "cell_type": "code",
   "execution_count": 20,
   "id": "2edb5eaf",
   "metadata": {
    "execution": {
     "iopub.execute_input": "2024-07-24T13:55:44.847582Z",
     "iopub.status.busy": "2024-07-24T13:55:44.847320Z",
     "iopub.status.idle": "2024-07-24T13:55:44.851303Z",
     "shell.execute_reply": "2024-07-24T13:55:44.850480Z"
    },
    "papermill": {
     "duration": 0.023938,
     "end_time": "2024-07-24T13:55:44.853097",
     "exception": false,
     "start_time": "2024-07-24T13:55:44.829159",
     "status": "completed"
    },
    "tags": []
   },
   "outputs": [],
   "source": [
    "#eda_df = pd.get_dummies(eda_df, columns=['Vehicle_Age'])\n",
    "#eda_df['Vehicle_Age_less_than_1_Year'] = eda_df['Vehicle_Age_less_than_1_Year'].astype('int')\n",
    "#eda_df['Vehicle_Age_1-2_Year'] = eda_df['Vehicle_Age_1-2_Year'].astype('int')\n",
    "#eda_df['Vehicle_Age_greater_than_2_Years'] = eda_df['Vehicle_Age_greater_than_2_Years'].astype('int')\n",
    "#eda_df.head().T"
   ]
  },
  {
   "cell_type": "code",
   "execution_count": 21,
   "id": "9442aeab",
   "metadata": {
    "execution": {
     "iopub.execute_input": "2024-07-24T13:55:44.888935Z",
     "iopub.status.busy": "2024-07-24T13:55:44.888656Z",
     "iopub.status.idle": "2024-07-24T13:55:44.892443Z",
     "shell.execute_reply": "2024-07-24T13:55:44.891569Z"
    },
    "papermill": {
     "duration": 0.024351,
     "end_time": "2024-07-24T13:55:44.894438",
     "exception": false,
     "start_time": "2024-07-24T13:55:44.870087",
     "status": "completed"
    },
    "tags": []
   },
   "outputs": [],
   "source": [
    "#eda_df = pd.get_dummies(eda_df, columns=['Gender'])\n",
    "#eda_df['Gender_Male'] = eda_df['Gender_Male'].astype('int')\n",
    "#eda_df['Gender_Female'] = eda_df['Gender_Female'].astype('int')\n",
    "#eda_df.head().T"
   ]
  },
  {
   "cell_type": "code",
   "execution_count": 22,
   "id": "f3f7d240",
   "metadata": {
    "execution": {
     "iopub.execute_input": "2024-07-24T13:55:44.929361Z",
     "iopub.status.busy": "2024-07-24T13:55:44.929088Z",
     "iopub.status.idle": "2024-07-24T13:55:44.932626Z",
     "shell.execute_reply": "2024-07-24T13:55:44.931817Z"
    },
    "papermill": {
     "duration": 0.023013,
     "end_time": "2024-07-24T13:55:44.934426",
     "exception": false,
     "start_time": "2024-07-24T13:55:44.911413",
     "status": "completed"
    },
    "tags": []
   },
   "outputs": [],
   "source": [
    "#eda_df = pd.get_dummies(eda_df, columns=['Vehicle_Damage'])\n",
    "#eda_df['Vehicle_Damage_Yes'] = eda_df['Vehicle_Damage_Yes'].astype('int')\n",
    "#eda_df['Vehicle_Damage_No'] = eda_df['Vehicle_Damage_No'].astype('int')\n",
    "#eda_df.head().T"
   ]
  },
  {
   "cell_type": "markdown",
   "id": "0575b02f",
   "metadata": {
    "papermill": {
     "duration": 0.016733,
     "end_time": "2024-07-24T13:55:44.968258",
     "exception": false,
     "start_time": "2024-07-24T13:55:44.951525",
     "status": "completed"
    },
    "tags": []
   },
   "source": [
    "### Modeling and hyperparameter tuning"
   ]
  },
  {
   "cell_type": "code",
   "execution_count": 23,
   "id": "f5405114",
   "metadata": {
    "execution": {
     "iopub.execute_input": "2024-07-24T13:55:45.003390Z",
     "iopub.status.busy": "2024-07-24T13:55:45.003106Z",
     "iopub.status.idle": "2024-07-24T13:55:45.007258Z",
     "shell.execute_reply": "2024-07-24T13:55:45.006424Z"
    },
    "papermill": {
     "duration": 0.023967,
     "end_time": "2024-07-24T13:55:45.009238",
     "exception": false,
     "start_time": "2024-07-24T13:55:44.985271",
     "status": "completed"
    },
    "tags": []
   },
   "outputs": [],
   "source": [
    "cv = StratifiedKFold(n_splits=5, shuffle=True, random_state=42)"
   ]
  },
  {
   "cell_type": "code",
   "execution_count": 24,
   "id": "7d18e619",
   "metadata": {
    "execution": {
     "iopub.execute_input": "2024-07-24T13:55:45.044907Z",
     "iopub.status.busy": "2024-07-24T13:55:45.044642Z",
     "iopub.status.idle": "2024-07-24T13:55:45.063233Z",
     "shell.execute_reply": "2024-07-24T13:55:45.062387Z"
    },
    "papermill": {
     "duration": 0.038542,
     "end_time": "2024-07-24T13:55:45.065150",
     "exception": false,
     "start_time": "2024-07-24T13:55:45.026608",
     "status": "completed"
    },
    "tags": []
   },
   "outputs": [],
   "source": [
    "#A cross-validation function with early stopping. I used some crowdy code  to get the best iterations. If you have more elegant suggestions, please put the comment.\n",
    "\n",
    "def cross_validate_score(model, data: pd.DataFrame, cv=None, test_data: pd.DataFrame = None, label: str = 'Response', include_original: bool = True, original_data: pd.DataFrame = None):\n",
    "    if cv is None:\n",
    "        cv = StratifiedKFold(n_splits=5, shuffle=True, random_state=42)\n",
    "    if test_data is None:\n",
    "        raise ValueError(\"test_data must be provided\")\n",
    "    \n",
    "    X = data.copy()\n",
    "    y = X.pop(label)\n",
    "    \n",
    "    val_predictions = np.zeros(len(X))\n",
    "    test_predictions = np.zeros(len(test_data))\n",
    "    train_scores, val_scores = [], []\n",
    "    \n",
    "    for fold, (train_idx, val_idx) in enumerate(cv.split(X, y)):\n",
    "        X_train = X.iloc[train_idx].reset_index(drop=True)\n",
    "        y_train = y.iloc[train_idx].reset_index(drop=True)\n",
    "        X_val = X.iloc[val_idx].reset_index(drop=True)\n",
    "        y_val = y.iloc[val_idx].reset_index(drop=True)\n",
    "        \n",
    "        if include_original:\n",
    "            if original_data is None:\n",
    "                raise ValueError(\"original_data must be provided when include_original is True\")\n",
    "            X_train = pd.concat([original_data.drop(label, axis=1), X_train]).reset_index(drop=True)\n",
    "            y_train = pd.concat([original_data[label], y_train]).reset_index(drop=True)\n",
    "        \n",
    "        model_cloned = clone(model)\n",
    "        \n",
    "        if isinstance(model_cloned, XGBClassifier):\n",
    "            eval_set = [(X_val, y_val)]\n",
    "            model_cloned.fit(X_train, y_train, eval_set=eval_set, early_stopping_rounds=50, verbose=False)\n",
    "            best_iteration = model_cloned.best_iteration\n",
    "            train_preds_proba = model_cloned.predict_proba(X_train, iteration_range=(0, best_iteration))[:, 1]\n",
    "            val_preds_proba = model_cloned.predict_proba(X_val, iteration_range=(0, best_iteration))[:, 1]\n",
    "            test_preds_proba = model_cloned.predict_proba(test_data, iteration_range=(0, best_iteration))[:, 1]\n",
    "        elif isinstance(model_cloned, LGBMClassifier):\n",
    "            eval_set = [(X_val, y_val)]\n",
    "            model_cloned.fit(X_train, y_train, eval_set=eval_set, eval_metric='auc', callbacks=[early_stopping(50)])\n",
    "            best_iteration = model_cloned.best_iteration_\n",
    "            train_preds_proba = model_cloned.predict_proba(X_train, num_iteration=best_iteration)[:, 1]\n",
    "            val_preds_proba = model_cloned.predict_proba(X_val, num_iteration=best_iteration)[:, 1]\n",
    "            test_preds_proba = model_cloned.predict_proba(test_data, num_iteration=best_iteration)[:, 1]\n",
    "        elif isinstance(model_cloned, CatBoostClassifier):\n",
    "            model_cloned.fit(X_train, y_train, eval_set=(X_val, y_val), early_stopping_rounds=50, verbose=False)\n",
    "            best_iteration = model_cloned.get_best_iteration()\n",
    "            train_preds_proba = model_cloned.predict_proba(X_train)[:, 1]\n",
    "            val_preds_proba = model_cloned.predict_proba(X_val)[:, 1]\n",
    "            test_preds_proba = model_cloned.predict_proba(test_data)[:, 1]\n",
    "        else:\n",
    "            raise ValueError(\"Model type not supported for early stopping.\")\n",
    "        \n",
    "        val_predictions[val_idx] = val_preds_proba\n",
    "        train_scores.append(roc_auc_score(y_train, train_preds_proba))\n",
    "        val_scores.append(roc_auc_score(y_val, val_preds_proba))\n",
    "        \n",
    "        print(f'Fold {fold}: {val_scores[-1]:.5f}')\n",
    "        \n",
    "        test_predictions += test_preds_proba / cv.get_n_splits()\n",
    "        \n",
    "    print(f'Val Score: {np.mean(val_scores):.7f} ± {np.std(val_scores):.7f} | Train Score: {np.mean(train_scores):.7f} ± {np.std(train_scores):.7f} | {label}')\n",
    "    \n",
    "    return val_scores, val_predictions, test_predictions"
   ]
  },
  {
   "cell_type": "code",
   "execution_count": 25,
   "id": "6c34b17a",
   "metadata": {
    "execution": {
     "iopub.execute_input": "2024-07-24T13:55:45.100183Z",
     "iopub.status.busy": "2024-07-24T13:55:45.099894Z",
     "iopub.status.idle": "2024-07-24T13:55:45.104866Z",
     "shell.execute_reply": "2024-07-24T13:55:45.104033Z"
    },
    "papermill": {
     "duration": 0.024798,
     "end_time": "2024-07-24T13:55:45.106841",
     "exception": false,
     "start_time": "2024-07-24T13:55:45.082043",
     "status": "completed"
    },
    "tags": []
   },
   "outputs": [],
   "source": [
    "cv_summary, oof_predictions, test_predictions = pd.DataFrame(), pd.DataFrame(), pd.DataFrame()"
   ]
  },
  {
   "cell_type": "markdown",
   "id": "aa7c9b6c",
   "metadata": {
    "papermill": {
     "duration": 0.017655,
     "end_time": "2024-07-24T13:55:45.141334",
     "exception": false,
     "start_time": "2024-07-24T13:55:45.123679",
     "status": "completed"
    },
    "tags": []
   },
   "source": [
    "### XGBoost"
   ]
  },
  {
   "cell_type": "code",
   "execution_count": 26,
   "id": "466018d3",
   "metadata": {
    "execution": {
     "iopub.execute_input": "2024-07-24T13:55:45.176730Z",
     "iopub.status.busy": "2024-07-24T13:55:45.176447Z",
     "iopub.status.idle": "2024-07-24T13:55:45.181855Z",
     "shell.execute_reply": "2024-07-24T13:55:45.181007Z"
    },
    "papermill": {
     "duration": 0.02548,
     "end_time": "2024-07-24T13:55:45.183815",
     "exception": false,
     "start_time": "2024-07-24T13:55:45.158335",
     "status": "completed"
    },
    "tags": []
   },
   "outputs": [],
   "source": [
    "xgb_params = {\n",
    "    \n",
    "    'n_estimators': 10000,\n",
    "    'eta': 0.05,\n",
    "    'alpha':  0.2545607592482198,\n",
    "    'subsample': 0.8388163485383147, \n",
    "    'colsample_bytree': 0.2732499701466825, \n",
    "    'max_depth': 16,\n",
    "    'min_child_weight': 5,\n",
    "    'gamma': 0.0017688666476104672,\n",
    "    'eval_metric': 'auc',\n",
    "    'max_bin': 262143, #a weird max_bin, for reference: https://www.kaggle.com/competitions/playground-series-s4e7/discussion/516265   \n",
    "    'tree_method': 'gpu_hist',\n",
    "}\n",
    "\n",
    "xgb_tuned = XGBClassifier(**xgb_params, random_state=random_state)"
   ]
  },
  {
   "cell_type": "code",
   "execution_count": 27,
   "id": "413960cd",
   "metadata": {
    "execution": {
     "iopub.execute_input": "2024-07-24T13:55:45.220108Z",
     "iopub.status.busy": "2024-07-24T13:55:45.219804Z",
     "iopub.status.idle": "2024-07-24T14:55:35.968620Z",
     "shell.execute_reply": "2024-07-24T14:55:35.967652Z"
    },
    "papermill": {
     "duration": 3590.769417,
     "end_time": "2024-07-24T14:55:35.970888",
     "exception": false,
     "start_time": "2024-07-24T13:55:45.201471",
     "status": "completed"
    },
    "tags": []
   },
   "outputs": [
    {
     "name": "stdout",
     "output_type": "stream",
     "text": [
      "Fold 0: 0.89162\n",
      "Fold 1: 0.89134\n",
      "Fold 2: 0.89152\n",
      "Fold 3: 0.89140\n",
      "Fold 4: 0.89144\n",
      "Val Score: 0.8914623 ± 0.0000980 | Train Score: 0.9020916 ± 0.0009083 | Response\n",
      "CPU times: user 1h 1min 5s, sys: 21.3 s, total: 1h 1min 26s\n",
      "Wall time: 59min 50s\n"
     ]
    }
   ],
   "source": [
    "%%time\n",
    "cv_summary['xgb'], oof_predictions['xgb'], test_predictions['xgb'] = cross_validate_score(xgb_tuned, data=train_df, test_data=test_df, include_original=False)"
   ]
  },
  {
   "cell_type": "markdown",
   "id": "da06843d",
   "metadata": {
    "papermill": {
     "duration": 0.017253,
     "end_time": "2024-07-24T14:55:36.006436",
     "exception": false,
     "start_time": "2024-07-24T14:55:35.989183",
     "status": "completed"
    },
    "tags": []
   },
   "source": [
    "### CatBoost"
   ]
  },
  {
   "cell_type": "code",
   "execution_count": 28,
   "id": "7bed9fdb",
   "metadata": {
    "execution": {
     "iopub.execute_input": "2024-07-24T14:55:36.042424Z",
     "iopub.status.busy": "2024-07-24T14:55:36.042138Z",
     "iopub.status.idle": "2024-07-24T14:55:36.050479Z",
     "shell.execute_reply": "2024-07-24T14:55:36.049788Z"
    },
    "papermill": {
     "duration": 0.028516,
     "end_time": "2024-07-24T14:55:36.052344",
     "exception": false,
     "start_time": "2024-07-24T14:55:36.023828",
     "status": "completed"
    },
    "tags": []
   },
   "outputs": [],
   "source": [
    "catb_params = {\n",
    "    'iterations': 10000,\n",
    "    'eval_metric': 'AUC',\n",
    "    'task_type': 'GPU',\n",
    "    'learning_rate': 0.1,\n",
    "    'depth': 9,\n",
    "    'l2_leaf_reg': 55.37964307854247,\n",
    "    'max_bin': 404,\n",
    "    'bagging_temperature': 0.017138393608280057,\n",
    "    'random_strength': 9.256288011643901\n",
    "}\n",
    "\n",
    "\n",
    "#defining all features as cateegorical makes huge impact \n",
    "#reference: https://www.kaggle.com/code/rohanrao/automl-grand-prix-1st-place-solution\n",
    "catb_tuned = CatBoostClassifier(**catb_params, random_state=random_state, logging_level='Silent',cat_features=test_df.columns.values)"
   ]
  },
  {
   "cell_type": "code",
   "execution_count": 29,
   "id": "7e32e3e2",
   "metadata": {
    "execution": {
     "iopub.execute_input": "2024-07-24T14:55:36.088187Z",
     "iopub.status.busy": "2024-07-24T14:55:36.087902Z",
     "iopub.status.idle": "2024-07-24T17:38:43.885392Z",
     "shell.execute_reply": "2024-07-24T17:38:43.884387Z"
    },
    "papermill": {
     "duration": 9787.817639,
     "end_time": "2024-07-24T17:38:43.887483",
     "exception": false,
     "start_time": "2024-07-24T14:55:36.069844",
     "status": "completed"
    },
    "tags": []
   },
   "outputs": [
    {
     "name": "stderr",
     "output_type": "stream",
     "text": [
      "Default metric period is 5 because AUC is/are not implemented for GPU\n"
     ]
    },
    {
     "name": "stdout",
     "output_type": "stream",
     "text": [
      "Fold 0: 0.89518\n"
     ]
    },
    {
     "name": "stderr",
     "output_type": "stream",
     "text": [
      "Default metric period is 5 because AUC is/are not implemented for GPU\n"
     ]
    },
    {
     "name": "stdout",
     "output_type": "stream",
     "text": [
      "Fold 1: 0.89475\n"
     ]
    },
    {
     "name": "stderr",
     "output_type": "stream",
     "text": [
      "Default metric period is 5 because AUC is/are not implemented for GPU\n"
     ]
    },
    {
     "name": "stdout",
     "output_type": "stream",
     "text": [
      "Fold 2: 0.89507\n"
     ]
    },
    {
     "name": "stderr",
     "output_type": "stream",
     "text": [
      "Default metric period is 5 because AUC is/are not implemented for GPU\n"
     ]
    },
    {
     "name": "stdout",
     "output_type": "stream",
     "text": [
      "Fold 3: 0.89488\n"
     ]
    },
    {
     "name": "stderr",
     "output_type": "stream",
     "text": [
      "Default metric period is 5 because AUC is/are not implemented for GPU\n"
     ]
    },
    {
     "name": "stdout",
     "output_type": "stream",
     "text": [
      "Fold 4: 0.89557\n",
      "Val Score: 0.8950899 ± 0.0002826 | Train Score: 0.9335113 ± 0.0007298 | Response\n",
      "CPU times: user 3h 28min 20s, sys: 8min 13s, total: 3h 36min 34s\n",
      "Wall time: 2h 43min 7s\n"
     ]
    }
   ],
   "source": [
    "%%time\n",
    "cv_summary['catb'], oof_predictions['catb'], test_predictions['catb'] = cross_validate_score(catb_tuned, data=train_df, test_data=test_df, include_original=False)"
   ]
  },
  {
   "cell_type": "markdown",
   "id": "7748a5d4",
   "metadata": {
    "papermill": {
     "duration": 0.018391,
     "end_time": "2024-07-24T17:38:43.924450",
     "exception": false,
     "start_time": "2024-07-24T17:38:43.906059",
     "status": "completed"
    },
    "tags": []
   },
   "source": [
    "### Performance Summary"
   ]
  },
  {
   "cell_type": "code",
   "execution_count": 30,
   "id": "454922ee",
   "metadata": {
    "execution": {
     "iopub.execute_input": "2024-07-24T17:38:43.962105Z",
     "iopub.status.busy": "2024-07-24T17:38:43.961795Z",
     "iopub.status.idle": "2024-07-24T17:38:43.981073Z",
     "shell.execute_reply": "2024-07-24T17:38:43.980229Z"
    },
    "papermill": {
     "duration": 0.040309,
     "end_time": "2024-07-24T17:38:43.982925",
     "exception": false,
     "start_time": "2024-07-24T17:38:43.942616",
     "status": "completed"
    },
    "tags": []
   },
   "outputs": [
    {
     "data": {
      "text/html": [
       "<style type=\"text/css\">\n",
       "#T_9e811_row0_col0, #T_9e811_row0_col1, #T_9e811_row0_col2, #T_9e811_row0_col3, #T_9e811_row0_col4, #T_9e811_row0_col5, #T_9e811_row0_col6 {\n",
       "  background-color: #1b9e77;\n",
       "  color: #f1f1f1;\n",
       "}\n",
       "#T_9e811_row1_col0, #T_9e811_row1_col1, #T_9e811_row1_col2, #T_9e811_row1_col3, #T_9e811_row1_col4, #T_9e811_row1_col5, #T_9e811_row1_col6 {\n",
       "  background-color: #666666;\n",
       "  color: #f1f1f1;\n",
       "}\n",
       "</style>\n",
       "<table id=\"T_9e811\">\n",
       "  <thead>\n",
       "    <tr>\n",
       "      <th class=\"blank level0\" >&nbsp;</th>\n",
       "      <th id=\"T_9e811_level0_col0\" class=\"col_heading level0 col0\" >fold1</th>\n",
       "      <th id=\"T_9e811_level0_col1\" class=\"col_heading level0 col1\" >fold2</th>\n",
       "      <th id=\"T_9e811_level0_col2\" class=\"col_heading level0 col2\" >fold3</th>\n",
       "      <th id=\"T_9e811_level0_col3\" class=\"col_heading level0 col3\" >fold4</th>\n",
       "      <th id=\"T_9e811_level0_col4\" class=\"col_heading level0 col4\" >fold5</th>\n",
       "      <th id=\"T_9e811_level0_col5\" class=\"col_heading level0 col5\" >Mean</th>\n",
       "      <th id=\"T_9e811_level0_col6\" class=\"col_heading level0 col6\" >Std</th>\n",
       "    </tr>\n",
       "  </thead>\n",
       "  <tbody>\n",
       "    <tr>\n",
       "      <th id=\"T_9e811_level0_row0\" class=\"row_heading level0 row0\" >catb</th>\n",
       "      <td id=\"T_9e811_row0_col0\" class=\"data row0 col0\" >0.895178</td>\n",
       "      <td id=\"T_9e811_row0_col1\" class=\"data row0 col1\" >0.894749</td>\n",
       "      <td id=\"T_9e811_row0_col2\" class=\"data row0 col2\" >0.895070</td>\n",
       "      <td id=\"T_9e811_row0_col3\" class=\"data row0 col3\" >0.894881</td>\n",
       "      <td id=\"T_9e811_row0_col4\" class=\"data row0 col4\" >0.895571</td>\n",
       "      <td id=\"T_9e811_row0_col5\" class=\"data row0 col5\" >0.895090</td>\n",
       "      <td id=\"T_9e811_row0_col6\" class=\"data row0 col6\" >0.000283</td>\n",
       "    </tr>\n",
       "    <tr>\n",
       "      <th id=\"T_9e811_level0_row1\" class=\"row_heading level0 row1\" >xgb</th>\n",
       "      <td id=\"T_9e811_row1_col0\" class=\"data row1 col0\" >0.891617</td>\n",
       "      <td id=\"T_9e811_row1_col1\" class=\"data row1 col1\" >0.891337</td>\n",
       "      <td id=\"T_9e811_row1_col2\" class=\"data row1 col2\" >0.891521</td>\n",
       "      <td id=\"T_9e811_row1_col3\" class=\"data row1 col3\" >0.891398</td>\n",
       "      <td id=\"T_9e811_row1_col4\" class=\"data row1 col4\" >0.891439</td>\n",
       "      <td id=\"T_9e811_row1_col5\" class=\"data row1 col5\" >0.891462</td>\n",
       "      <td id=\"T_9e811_row1_col6\" class=\"data row1 col6\" >0.000098</td>\n",
       "    </tr>\n",
       "  </tbody>\n",
       "</table>\n"
      ],
      "text/plain": [
       "<pandas.io.formats.style.Styler at 0x7ac37a132320>"
      ]
     },
     "execution_count": 30,
     "metadata": {},
     "output_type": "execute_result"
    }
   ],
   "source": [
    "#performance summary for base learners\n",
    "transposed_df = cv_summary.transpose()\n",
    "transposed_df.columns = ['fold1','fold2','fold3','fold4','fold5']\n",
    "transposed_df['Mean'] = transposed_df.mean(axis=1)\n",
    "transposed_df['Std'] = transposed_df.std(axis=1)\n",
    "transposed_df.sort_values(by = 'Mean', ascending=False).style.background_gradient('Dark2_r')"
   ]
  },
  {
   "cell_type": "code",
   "execution_count": 31,
   "id": "fb14bd6f",
   "metadata": {
    "execution": {
     "iopub.execute_input": "2024-07-24T17:38:44.021356Z",
     "iopub.status.busy": "2024-07-24T17:38:44.020666Z",
     "iopub.status.idle": "2024-07-24T17:38:44.674624Z",
     "shell.execute_reply": "2024-07-24T17:38:44.673724Z"
    },
    "papermill": {
     "duration": 0.675581,
     "end_time": "2024-07-24T17:38:44.676976",
     "exception": false,
     "start_time": "2024-07-24T17:38:44.001395",
     "status": "completed"
    },
    "tags": []
   },
   "outputs": [
    {
     "data": {
      "image/png": "[encoded data removed]",
      "text/plain": [
       "<Figure size 2000x2000 with 2 Axes>"
      ]
     },
     "metadata": {},
     "output_type": "display_data"
    }
   ],
   "source": [
    "sns.set(font_scale=1.2, style=\"whitegrid\")\n",
    "correlation_train = oof_predictions.corr()\n",
    "mask = np.triu(np.ones_like(correlation_train, dtype=bool))\n",
    "plt.figure(figsize=(20, 20))\n",
    "sns.heatmap(correlation_train, \n",
    "            mask=mask, \n",
    "            annot=True, \n",
    "            fmt='.3f', \n",
    "            cmap='coolwarm', \n",
    "            square=True, \n",
    "            linewidths=.5, \n",
    "            cbar_kws={\"shrink\": .75})\n",
    "plt.title('Model Diversity Check - Correlation Heatmap', fontsize=20, pad=20)\n",
    "plt.show()"
   ]
  },
  {
   "cell_type": "markdown",
   "id": "abb806c1",
   "metadata": {
    "papermill": {
     "duration": 0.019589,
     "end_time": "2024-07-24T17:38:44.716205",
     "exception": false,
     "start_time": "2024-07-24T17:38:44.696616",
     "status": "completed"
    },
    "tags": []
   },
   "source": [
    "### Voting vs Stacking"
   ]
  },
  {
   "cell_type": "code",
   "execution_count": 32,
   "id": "d05e9560",
   "metadata": {
    "execution": {
     "iopub.execute_input": "2024-07-24T17:38:44.755956Z",
     "iopub.status.busy": "2024-07-24T17:38:44.755675Z",
     "iopub.status.idle": "2024-07-24T17:38:44.760632Z",
     "shell.execute_reply": "2024-07-24T17:38:44.759722Z"
    },
    "papermill": {
     "duration": 0.027128,
     "end_time": "2024-07-24T17:38:44.762579",
     "exception": false,
     "start_time": "2024-07-24T17:38:44.735451",
     "status": "completed"
    },
    "tags": []
   },
   "outputs": [],
   "source": [
    "#probability averaging\n",
    "def soft_voting_ensemble(oof_df, y_actual):\n",
    "\n",
    "    mean_prob = oof_df.mean(axis=1)\n",
    "    ensemble_auc = roc_auc_score(y_actual, mean_prob)\n",
    "    print(f'Ensemble AUC: {ensemble_auc:.5f}')\n",
    "    \n",
    "    return mean_prob, ensemble_auc"
   ]
  },
  {
   "cell_type": "code",
   "execution_count": 33,
   "id": "37b56cdc",
   "metadata": {
    "execution": {
     "iopub.execute_input": "2024-07-24T17:38:44.801838Z",
     "iopub.status.busy": "2024-07-24T17:38:44.801550Z",
     "iopub.status.idle": "2024-07-24T17:38:54.085688Z",
     "shell.execute_reply": "2024-07-24T17:38:54.084631Z"
    },
    "papermill": {
     "duration": 9.306185,
     "end_time": "2024-07-24T17:38:54.087851",
     "exception": false,
     "start_time": "2024-07-24T17:38:44.781666",
     "status": "completed"
    },
    "tags": []
   },
   "outputs": [
    {
     "name": "stdout",
     "output_type": "stream",
     "text": [
      "Ensemble AUC: 0.89492\n"
     ]
    }
   ],
   "source": [
    "_ , ensemble_auc = soft_voting_ensemble(oof_predictions, train_df.Response)"
   ]
  },
  {
   "cell_type": "code",
   "execution_count": 34,
   "id": "923bd482",
   "metadata": {
    "execution": {
     "iopub.execute_input": "2024-07-24T17:38:54.129207Z",
     "iopub.status.busy": "2024-07-24T17:38:54.128715Z",
     "iopub.status.idle": "2024-07-24T17:38:54.134501Z",
     "shell.execute_reply": "2024-07-24T17:38:54.133611Z"
    },
    "papermill": {
     "duration": 0.029041,
     "end_time": "2024-07-24T17:38:54.136517",
     "exception": false,
     "start_time": "2024-07-24T17:38:54.107476",
     "status": "completed"
    },
    "tags": []
   },
   "outputs": [],
   "source": [
    "#parameters suggested for meta model                                                                                                 \n",
    "meta_model_params = {\n",
    "'n_estimators': 43, 'alpha': 0.000759453839369262, 'subsample': 0.8635904939859487, 'colsample_bytree': 0.7579443772400538,\n",
    "    'max_depth': 7, 'min_child_weight': 5, 'learning_rate': 0.13688008280542863, 'gamma': 0.19965095682630274}\n",
    "\n",
    "meta_model = XGBClassifier(**meta_model_params, random_state=random_state)"
   ]
  },
  {
   "cell_type": "code",
   "execution_count": 35,
   "id": "fccbe486",
   "metadata": {
    "execution": {
     "iopub.execute_input": "2024-07-24T17:38:54.176060Z",
     "iopub.status.busy": "2024-07-24T17:38:54.175745Z",
     "iopub.status.idle": "2024-07-24T17:38:54.180447Z",
     "shell.execute_reply": "2024-07-24T17:38:54.179564Z"
    },
    "papermill": {
     "duration": 0.026604,
     "end_time": "2024-07-24T17:38:54.182251",
     "exception": false,
     "start_time": "2024-07-24T17:38:54.155647",
     "status": "completed"
    },
    "tags": []
   },
   "outputs": [],
   "source": [
    "#%%time\n",
    "\n",
    "#Deciding which models to include ensemble\n",
    "#from sklearn.feature_selection import RFECV\n",
    "\n",
    "min_features_to_select = 1\n",
    "\n",
    "# Create a pipeline with preprocessor, RFECV, and LGBMClassifier\n",
    "#pipeline = Pipeline([\n",
    "#    ('rfecv', RFECV(estimator=meta_model,\n",
    "#                    step=1,\n",
    "#                    cv=cv,\n",
    "#                    scoring=\"roc_auc\",\n",
    "#                    min_features_to_select=min_features_to_select,\n",
    "#                    n_jobs=-1,))\n",
    "#])\n",
    "\n",
    "# Fit the pipeline on the training data\n",
    "#pipeline.fit(oof_predictions, train_df.Response)\n",
    "\n",
    "#CV score\n",
    "#print(\"Best CV score: \")\n",
    "#selected_models = np.array( oof_predictions.columns)[pipeline.named_steps['rfecv'].support_]\n",
    "#print( pipeline.named_steps['rfecv'].cv_results_[\"mean_test_score\"][len(selected_models) - 1])\n",
    "\n",
    "\n",
    "\n",
    "# Selected features after RFECV\n",
    "#print('Number of evaluated models:', len(oof_predictions.columns))\n",
    "#print('Number of selected models for ensemble:', len(selected_models))\n",
    "#print(\"Selected models:\", selected_models)"
   ]
  },
  {
   "cell_type": "code",
   "execution_count": 36,
   "id": "5c69d0a7",
   "metadata": {
    "execution": {
     "iopub.execute_input": "2024-07-24T17:38:54.222134Z",
     "iopub.status.busy": "2024-07-24T17:38:54.221859Z",
     "iopub.status.idle": "2024-07-24T17:38:54.225554Z",
     "shell.execute_reply": "2024-07-24T17:38:54.224758Z"
    },
    "papermill": {
     "duration": 0.025477,
     "end_time": "2024-07-24T17:38:54.227375",
     "exception": false,
     "start_time": "2024-07-24T17:38:54.201898",
     "status": "completed"
    },
    "tags": []
   },
   "outputs": [],
   "source": [
    "#above code selects following models:\n",
    "selected_models = ['xgb', 'catb']"
   ]
  },
  {
   "cell_type": "markdown",
   "id": "2c0d7965",
   "metadata": {
    "papermill": {
     "duration": 0.018925,
     "end_time": "2024-07-24T17:38:54.265429",
     "exception": false,
     "start_time": "2024-07-24T17:38:54.246504",
     "status": "completed"
    },
    "tags": []
   },
   "source": [
    "### Submission"
   ]
  },
  {
   "cell_type": "code",
   "execution_count": 37,
   "id": "cf8faa56",
   "metadata": {
    "execution": {
     "iopub.execute_input": "2024-07-24T17:38:54.304953Z",
     "iopub.status.busy": "2024-07-24T17:38:54.304689Z",
     "iopub.status.idle": "2024-07-24T17:39:19.843934Z",
     "shell.execute_reply": "2024-07-24T17:39:19.842809Z"
    },
    "papermill": {
     "duration": 25.562037,
     "end_time": "2024-07-24T17:39:19.846494",
     "exception": false,
     "start_time": "2024-07-24T17:38:54.284457",
     "status": "completed"
    },
    "tags": []
   },
   "outputs": [],
   "source": [
    "meta_model = meta_model.fit(oof_predictions[selected_models], train_df.Response)"
   ]
  },
  {
   "cell_type": "code",
   "execution_count": 38,
   "id": "e75f9623",
   "metadata": {
    "execution": {
     "iopub.execute_input": "2024-07-24T17:39:19.887157Z",
     "iopub.status.busy": "2024-07-24T17:39:19.886840Z",
     "iopub.status.idle": "2024-07-24T17:39:23.431496Z",
     "shell.execute_reply": "2024-07-24T17:39:23.430704Z"
    },
    "papermill": {
     "duration": 3.567229,
     "end_time": "2024-07-24T17:39:23.433840",
     "exception": false,
     "start_time": "2024-07-24T17:39:19.866611",
     "status": "completed"
    },
    "tags": []
   },
   "outputs": [],
   "source": [
    "preds_test =  meta_model.predict_proba(test_predictions[selected_models])[:, 1]"
   ]
  },
  {
   "cell_type": "code",
   "execution_count": 39,
   "id": "5487d690",
   "metadata": {
    "execution": {
     "iopub.execute_input": "2024-07-24T17:39:23.474247Z",
     "iopub.status.busy": "2024-07-24T17:39:23.473920Z",
     "iopub.status.idle": "2024-07-24T17:39:23.534922Z",
     "shell.execute_reply": "2024-07-24T17:39:23.534193Z"
    },
    "papermill": {
     "duration": 0.083237,
     "end_time": "2024-07-24T17:39:23.537093",
     "exception": false,
     "start_time": "2024-07-24T17:39:23.453856",
     "status": "completed"
    },
    "tags": []
   },
   "outputs": [],
   "source": [
    "output = pd.DataFrame({'id': test_df.index,\n",
    "                       'Response': preds_test})"
   ]
  },
  {
   "cell_type": "code",
   "execution_count": 40,
   "id": "6110b8c3",
   "metadata": {
    "execution": {
     "iopub.execute_input": "2024-07-24T17:39:23.578207Z",
     "iopub.status.busy": "2024-07-24T17:39:23.577889Z",
     "iopub.status.idle": "2024-07-24T17:39:24.183269Z",
     "shell.execute_reply": "2024-07-24T17:39:24.182289Z"
    },
    "papermill": {
     "duration": 0.629674,
     "end_time": "2024-07-24T17:39:24.187121",
     "exception": false,
     "start_time": "2024-07-24T17:39:23.557447",
     "status": "completed"
    },
    "tags": []
   },
   "outputs": [],
   "source": [
    "output.to_parquet('submission.parquet', index=False)"
   ]
  },
  {
   "cell_type": "code",
   "execution_count": 41,
   "id": "3bd8e223",
   "metadata": {
    "execution": {
     "iopub.execute_input": "2024-07-24T17:39:24.234485Z",
     "iopub.status.busy": "2024-07-24T17:39:24.233760Z",
     "iopub.status.idle": "2024-07-24T17:39:26.351194Z",
     "shell.execute_reply": "2024-07-24T17:39:26.350213Z"
    },
    "papermill": {
     "duration": 2.140439,
     "end_time": "2024-07-24T17:39:26.353570",
     "exception": false,
     "start_time": "2024-07-24T17:39:24.213131",
     "status": "completed"
    },
    "tags": []
   },
   "outputs": [],
   "source": [
    "oof_predictions.to_parquet('oof_predictions.parquet', index=False)\n",
    "test_predictions.to_parquet('test_predictions.parquet', index=False)"
   ]
  }
 ],
 "metadata": {
  "kaggle": {
   "accelerator": "gpu",
   "dataSources": [
    {
     "databundleVersionId": 8930475,
     "sourceId": 73291,
     "sourceType": "competition"
    }
   ],
   "dockerImageVersionId": 30746,
   "isGpuEnabled": true,
   "isInternetEnabled": true,
   "language": "python",
   "sourceType": "notebook"
  },
  "kernelspec": {
   "display_name": "Python 3",
   "language": "python",
   "name": "python3"
  },
  "language_info": {
   "codemirror_mode": {
    "name": "ipython",
    "version": 3
   },
   "file_extension": ".py",
   "mimetype": "text/x-python",
   "name": "python",
   "nbconvert_exporter": "python",
   "pygments_lexer": "ipython3",
   "version": "3.10.13"
  },
  "papermill": {
   "default_parameters": {},
   "duration": 13525.846997,
   "end_time": "2024-07-24T17:39:28.523503",
   "environment_variables": {},
   "exception": null,
   "input_path": "__notebook__.ipynb",
   "output_path": "__notebook__.ipynb",
   "parameters": {},
   "start_time": "2024-07-24T13:54:02.676506",
   "version": "2.5.0"
  }
 },
 "nbformat": 4,
 "nbformat_minor": 5
}
